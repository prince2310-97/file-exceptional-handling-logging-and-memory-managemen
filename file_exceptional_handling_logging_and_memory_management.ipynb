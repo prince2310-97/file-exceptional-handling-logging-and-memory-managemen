{
  "nbformat": 4,
  "nbformat_minor": 0,
  "metadata": {
    "colab": {
      "provenance": []
    },
    "kernelspec": {
      "name": "python3",
      "display_name": "Python 3"
    },
    "language_info": {
      "name": "python"
    }
  },
  "cells": [
    {
      "cell_type": "markdown",
      "source": [
        "1.What is the difference between interpreted and compiled languages?\n",
        "- Interpreted languages run code line by line (e.g., Python), while compiled languages are translated into machine code before running (e.g., C++). Interpreted is slower but more flexible; compiled is faster but less portable."
      ],
      "metadata": {
        "id": "PJWdgXdI_f6W"
      }
    },
    {
      "cell_type": "markdown",
      "source": [
        "2. What is exception handling in Python?\n",
        "- Exception handling in Python is a way to manage errors using try, except, else, and finally blocks. It allows the program to continue running instead of crashing when an error occurs.\n"
      ],
      "metadata": {
        "id": "EZUNRFssACaM"
      }
    },
    {
      "cell_type": "markdown",
      "source": [
        "3. What is the purpose of the finally block in exception handling?\n",
        "- The finally block is used to define code that always runs, whether or not an exception occurred. It’s typically used for cleanup actions like closing files or releasing resources."
      ],
      "metadata": {
        "id": "9NuuvrHjAY7c"
      }
    },
    {
      "cell_type": "markdown",
      "source": [
        "4.What is logging in Python?\n",
        "- Logging in Python is the process of recording messages about a program’s execution. It helps in debugging and monitoring by writing logs to the console or files using the logging module."
      ],
      "metadata": {
        "id": "QgLBhUCKAsI0"
      }
    },
    {
      "cell_type": "markdown",
      "source": [
        "5.What is the significance of the __del__ method in Python?\n",
        "- The __del__ method is a destructor in Python. It is called when an object is about to be destroyed, allowing cleanup actions like closing files or releasing resources."
      ],
      "metadata": {
        "id": "HaWib0cMA4Bi"
      }
    },
    {
      "cell_type": "markdown",
      "source": [
        "6.What is the difference between import and from ... import in Python?\n",
        "- import brings in the whole module, while from ... import brings in specific parts."
      ],
      "metadata": {
        "id": "a8GoAC0K_OQD"
      }
    },
    {
      "cell_type": "markdown",
      "source": [
        "7.How can you handle multiple exceptions in Python?\n",
        "\n",
        " - You can handle multiple exceptions in Python by using multiple except blocks, grouping exceptions in a single block with a tuple, or catching all exceptions using a generic block."
      ],
      "metadata": {
        "id": "k-Lq0ZYJBpRP"
      }
    },
    {
      "cell_type": "markdown",
      "source": [
        "8.What is the purpose of the with statement when handling files in Python?\n",
        "- The with statement in Python is used to automatically manage resources like file handling. It ensures that the file is properly closed after its suite finishes, even if an error occurs."
      ],
      "metadata": {
        "id": "BoMWTMiKh6X9"
      }
    },
    {
      "cell_type": "markdown",
      "source": [
        "9. What is the difference between multithreading and multiprocessing?\n",
        "- Multithreading uses multiple threads within a single process to run tasks concurrently, sharing the same memory space. Multiprocessing uses multiple processes, each with its own memory space, to achieve true parallelism on multiple CPU cores.\n",
        "\n",
        "\n",
        "\n",
        "\n",
        "\n",
        "\n",
        "\n"
      ],
      "metadata": {
        "id": "P3Y-Imx7ilEK"
      }
    },
    {
      "cell_type": "markdown",
      "source": [
        "10.What are the advantages of using logging in a program?\n",
        "- Logging helps track events, errors, and program flow, making debugging and maintenance easier. It provides configurable levels of importance (like DEBUG, INFO, WARNING), supports output to files or other systems, and is more flexible and informative than using print statements."
      ],
      "metadata": {
        "id": "WJiL6g7_i_UN"
      }
    },
    {
      "cell_type": "markdown",
      "source": [
        "11.What is memory management in Python?\n",
        "- Memory management in Python refers to the process of allocating and releasing memory during program execution. It is handled automatically using a private heap, reference counting, and garbage collection to reclaim unused memory and prevent memory leaks."
      ],
      "metadata": {
        "id": "LlAMcPs4jb38"
      }
    },
    {
      "cell_type": "markdown",
      "source": [
        " 12.What are the basic steps involved in exception handling in Python?\n",
        " - The basic steps in exception handling in Python are:\n",
        "\n",
        " - Try: Wrap code that may raise an exception in a try block.\n",
        "\n",
        " - Except: Catch and handle specific exceptions using one or more except blocks.\n",
        "\n",
        " - Else (optional): Run code if no exceptions occur.\n",
        "\n",
        " - Finally (optional): Execute cleanup code, regardless of whether an exception occurred."
      ],
      "metadata": {
        "id": "4aA7g6MAjrLq"
      }
    },
    {
      "cell_type": "markdown",
      "source": [
        "13.Why is memory management important in Python?\n",
        "- Memory management is important in Python to ensure efficient use of system resources, prevent memory leaks, and maintain program performance and stability. It helps avoid crashes and slowdowns caused by excessive or improper memory usage."
      ],
      "metadata": {
        "id": "hpr19qrakLE0"
      }
    },
    {
      "cell_type": "markdown",
      "source": [
        "14.What is the role of try and except in exception handling?\n",
        "- The try block contains code that might raise an exception, while the except block catches and handles the exception to prevent the program from crashing."
      ],
      "metadata": {
        "id": "zcFbL-6Okc5y"
      }
    },
    {
      "cell_type": "markdown",
      "source": [
        "15.How does Python's garbage collection system work?\n",
        "- Python’s garbage collection automatically frees memory by identifying and deleting objects that are no longer referenced, primarily using reference counting combined with a cyclic garbage collector to handle reference cycles."
      ],
      "metadata": {
        "id": "U9MB9McbkxOc"
      }
    },
    {
      "cell_type": "markdown",
      "source": [
        "16.What is the purpose of the else block in exception handling?\n",
        "- The else block runs code only if no exceptions were raised in the try block, allowing you to separate normal execution from error handling."
      ],
      "metadata": {
        "id": "zC61maA4lEZv"
      }
    },
    {
      "cell_type": "markdown",
      "source": [
        "17.What are the common logging levels in Python?\n",
        "- Common logging levels in Python are:\n",
        "\n",
        "DEBUG\n",
        "\n",
        "INFO\n",
        "\n",
        "WARNING\n",
        "\n",
        "ERROR\n",
        "\n",
        "CRITICAL"
      ],
      "metadata": {
        "id": "ppCtjggplYXz"
      }
    },
    {
      "cell_type": "markdown",
      "source": [
        "18.What is the difference between os.fork() and multiprocessing in Python?\n",
        "- os.fork() creates a new child process by duplicating the current process at the OS level, mainly used in Unix/Linux systems. multiprocessing is a higher-level Python module that creates and manages separate processes in a platform-independent way, providing easier process communication and synchronization."
      ],
      "metadata": {
        "id": "Fk0KelUclud0"
      }
    },
    {
      "cell_type": "markdown",
      "source": [
        "19.What is the importance of closing a file in Python?\n",
        "- Closing a file in Python is important to free system resources, ensure data is properly saved (flushed), and avoid potential file corruption or data loss."
      ],
      "metadata": {
        "id": "8UVa1cYal73c"
      }
    },
    {
      "cell_type": "markdown",
      "source": [
        "20.What is the difference between file.read() and file.readline() in Python?\n",
        "- file.read() reads the entire contents of a file (or a specified number of bytes), while file.readline() reads the file one line at a time."
      ],
      "metadata": {
        "id": "z9BY6VPZmMsp"
      }
    },
    {
      "cell_type": "markdown",
      "source": [
        "21.What is the logging module in Python used for?\n",
        "-The logging module in Python is used to track and record events, errors, and informational messages during program execution for easier debugging and monitoring."
      ],
      "metadata": {
        "id": "WHCa3kZomeTG"
      }
    },
    {
      "cell_type": "markdown",
      "source": [
        "22.What is the os module in Python used for in file handling?\n",
        "- The os module in Python provides functions to interact with the operating system for file handling tasks like creating, deleting, renaming files and directories, and managing file paths."
      ],
      "metadata": {
        "id": "xO78Ga4wm-hf"
      }
    },
    {
      "cell_type": "markdown",
      "source": [
        "23.What are the challenges associated with memory management in Python?\n",
        "- Challenges in Python memory management include handling circular references, managing large objects efficiently, avoiding memory leaks from lingering references, and balancing automatic garbage collection with performance overhead."
      ],
      "metadata": {
        "id": "47qIyhI9nJ2u"
      }
    },
    {
      "cell_type": "markdown",
      "source": [
        "24.How do you raise an exception manually in Python?\n",
        "- You raise an exception manually in Python using the raise statement followed by an exception class or instance."
      ],
      "metadata": {
        "id": "YoriR8y0nXFD"
      }
    },
    {
      "cell_type": "markdown",
      "source": [
        "25.Why is it important to use multithreading in certain applications?\n",
        "- Multithreading is important in applications that need to perform multiple tasks simultaneously, improve responsiveness, or handle I/O-bound operations efficiently without blocking the main program."
      ],
      "metadata": {
        "id": "utQ3nm1En78e"
      }
    },
    {
      "cell_type": "code",
      "source": [
        "# PRACTICAL QUESTION\n",
        "#1 How can you open a file for writing in Python and write a string to it\n",
        "with open(\"file.txt\", \"w\") as f:\n",
        "    f.write(\"Hello, world!\")\n"
      ],
      "metadata": {
        "id": "LSg_TTAP771M"
      },
      "execution_count": 2,
      "outputs": []
    },
    {
      "cell_type": "code",
      "source": [
        "#2. Write a Python program to read the contents of a file and print each line\n",
        "with open(\"file.txt\", \"r\") as f:\n",
        "    for line in f:\n",
        "        print(line.strip())\n"
      ],
      "metadata": {
        "id": "_7CRKH_ZTFyF"
      },
      "execution_count": null,
      "outputs": []
    },
    {
      "cell_type": "code",
      "source": [
        "#3 How would you handle a case where the file doesn't exist while trying to open it for reading\n",
        "try:\n",
        "    with open(\"file.txt\", \"r\") as f:\n",
        "        print(f.read())\n",
        "except FileNotFoundError:\n",
        "    print(\"File not found\")\n"
      ],
      "metadata": {
        "id": "qzF4PrlzTZMz"
      },
      "execution_count": null,
      "outputs": []
    },
    {
      "cell_type": "code",
      "source": [
        "#4 Write a Python script that reads from one file and writes its content to another file\n",
        "with open(\"source.txt\", \"r\") as src, open(\"dest.txt\", \"w\") as dst:\n",
        "    dst.write(src.read())\n"
      ],
      "metadata": {
        "id": "JxqNkyOrTjFh"
      },
      "execution_count": null,
      "outputs": []
    },
    {
      "cell_type": "code",
      "source": [
        "#5.How would you catch and handle division by zero error in Python\n",
        "try:\n",
        "    result = 10 / 0\n",
        "except ZeroDivisionError:\n",
        "    print(\"Cannot divide by zero\")\n"
      ],
      "metadata": {
        "id": "Xm0Gjlj_Typf"
      },
      "execution_count": null,
      "outputs": []
    },
    {
      "cell_type": "code",
      "source": [
        "#6.Write a Python program that logs an error message to a log file when a division by zero exception occurs\n",
        "import logging\n",
        "logging.basicConfig(filename=\"error.log\", level=logging.ERROR)\n",
        "\n",
        "try:\n",
        "    x = 10 / 0\n",
        "except ZeroDivisionError as e:\n",
        "    logging.error(\"Division by zero error: %s\", e)\n",
        "\n"
      ],
      "metadata": {
        "id": "oVKv43HoT65g"
      },
      "execution_count": null,
      "outputs": []
    },
    {
      "cell_type": "code",
      "source": [
        "#7. How do you log information at different levels (INFO, ERROR, WARNING) in Python using the logging module\n",
        "import logging\n",
        "logging.basicConfig(level=logging.INFO)\n",
        "logging.info(\"This is info\")\n",
        "logging.warning(\"This is warning\")\n",
        "logging.error(\"This is error\")\n"
      ],
      "metadata": {
        "id": "E9BSbQBBUEKv"
      },
      "execution_count": null,
      "outputs": []
    },
    {
      "cell_type": "code",
      "source": [
        "#8.Write a program to handle a file opening error using exception handling\n",
        "\n",
        "try:\n",
        "    with open(\"file.txt\", \"r\") as f:\n",
        "        print(f.read())\n",
        "except IOError:\n",
        "    print(\"Error opening file\")\n"
      ],
      "metadata": {
        "id": "AtnfDzTMUc2E"
      },
      "execution_count": null,
      "outputs": []
    },
    {
      "cell_type": "code",
      "source": [
        "#9.How can you read a file line by line and store its content in a list in Python\n",
        "with open(\"file.txt\", \"r\") as f:\n",
        "    lines = f.readlines()\n"
      ],
      "metadata": {
        "id": "peHDW7KGUl7j"
      },
      "execution_count": null,
      "outputs": []
    },
    {
      "cell_type": "code",
      "source": [
        "#10. How can you append data to an existing file in Python\n",
        "with open(\"file.txt\", \"a\") as f:\n",
        "    f.write(\"More data\\n\")\n"
      ],
      "metadata": {
        "id": "1AvXtCKkU6dY"
      },
      "execution_count": null,
      "outputs": []
    },
    {
      "cell_type": "code",
      "source": [
        "#11.F Write a Python program that uses a try-except block to handle an error when attempting to access a dictionary key that doesn't existF\n",
        "data = {\"name\": \"Alice\"}\n",
        "try:\n",
        "    print(data[\"age\"])\n",
        "except KeyError:\n",
        "    print(\"Key not found\")\n"
      ],
      "metadata": {
        "id": "GTZ7uA4wVYij"
      },
      "execution_count": null,
      "outputs": []
    },
    {
      "cell_type": "code",
      "source": [
        "#12. Write a program that demonstrates using multiple except blocks to handle different types of exceptions\n",
        "try:\n",
        "    x = int(\"abc\")\n",
        "    y = 10 / 0\n",
        "except ValueError:\n",
        "    print(\"Value error occurred\")\n",
        "except ZeroDivisionError:\n",
        "    print(\"Division by zero error occurred\")\n"
      ],
      "metadata": {
        "id": "JTpHEiGgVnhd"
      },
      "execution_count": null,
      "outputs": []
    },
    {
      "cell_type": "markdown",
      "source": [],
      "metadata": {
        "id": "g0GNrr7dhzJn"
      }
    },
    {
      "cell_type": "code",
      "source": [
        "#13. How would you check if a file exists before attempting to read it in Python\n",
        "import os\n",
        "if os.path.exists(\"file.txt\"):\n",
        "    with open(\"file.txt\", \"r\") as f:\n",
        "        print(f.read())\n",
        "else:\n",
        "    print(\"File does not exist\")\n"
      ],
      "metadata": {
        "id": "FZuiIstcV3zA"
      },
      "execution_count": null,
      "outputs": []
    },
    {
      "cell_type": "code",
      "source": [
        "#14. Write a program that uses the logging module to log both informational and error messages\n",
        "import logging\n",
        "logging.basicConfig(level=logging.INFO)\n",
        "logging.info(\"This is info\")\n",
        "logging.error(\"This is error\")\n"
      ],
      "metadata": {
        "id": "QTeQwQe2WQuH"
      },
      "execution_count": null,
      "outputs": []
    },
    {
      "cell_type": "code",
      "source": [
        "#15. Write a Python program that prints the content of a file and handles the case when the file is empty\n",
        "with open(\"file.txt\", \"r\") as f:\n",
        "    content = f.read()\n",
        "    if content:\n",
        "        print(content)\n",
        "    else:\n",
        "        print(\"File is empty\")\n"
      ],
      "metadata": {
        "id": "BgQ-8wG9WbQc"
      },
      "execution_count": null,
      "outputs": []
    },
    {
      "cell_type": "code",
      "source": [
        "#16. Demonstrate how to use memory profiling to check the memory usage of a small program\n",
        "from memory_profiler import profile\n",
        "\n",
        "@profile\n",
        "def my_func():\n",
        "    a = [i for i in range(10000)]\n",
        "    return sum(a)\n",
        "\n",
        "my_func()\n"
      ],
      "metadata": {
        "id": "QPWTzJuKWxHg"
      },
      "execution_count": null,
      "outputs": []
    },
    {
      "cell_type": "code",
      "source": [
        "#17. Write a Python program to create and write a list of numbers to a file, one number per line\n",
        "numbers = [1, 2, 3, 4, 5]\n",
        "with open(\"numbers.txt\", \"w\") as f:\n",
        "    for num in numbers:\n",
        "        f.write(f\"{num}\\n\")\n"
      ],
      "metadata": {
        "id": "WGXIZTkTW-5l"
      },
      "execution_count": null,
      "outputs": []
    },
    {
      "cell_type": "code",
      "source": [
        "#18. How would you implement a basic logging setup that logs to a file with rotation after 1MB\n",
        "import logging\n",
        "from logging.handlers import RotatingFileHandler\n",
        "\n",
        "handler = RotatingFileHandler(\"app.log\", maxBytes=1048576, backupCount=3)\n",
        "logging.basicConfig(handlers=[handler], level=logging.INFO)\n",
        "logging.info(\"Starting application\")\n"
      ],
      "metadata": {
        "id": "aENINqQzXjTO"
      },
      "execution_count": null,
      "outputs": []
    },
    {
      "cell_type": "code",
      "source": [
        "#19.Write a program that handles both IndexError and KeyError using a try-except block\n",
        "try:\n",
        "    my_list = [1, 2]\n",
        "    print(my_list[5])\n",
        "    my_dict = {}\n",
        "    print(my_dict[\"key\"])\n",
        "except IndexError:\n",
        "    print(\"Index error occurred\")\n",
        "except KeyError:\n",
        "    print(\"Key error occurred\")\n"
      ],
      "metadata": {
        "id": "JXv0pF6BYAX2"
      },
      "execution_count": null,
      "outputs": []
    },
    {
      "cell_type": "code",
      "source": [
        "#20.How would you open a file and read its contents using a context manager in Python\n",
        "with open(\"file.txt\", \"r\") as f:\n",
        "    content = f.read()\n"
      ],
      "metadata": {
        "id": "u2-u-VyWYdiI"
      },
      "execution_count": null,
      "outputs": []
    },
    {
      "cell_type": "code",
      "source": [
        "#21. Write a Python program that reads a file and prints the number of occurrences of a specific word\n",
        "word = \"python\"\n",
        "count = 0\n",
        "with open(\"file.txt\", \"r\") as f:\n",
        "    for line in f:\n",
        "        count += line.lower().count(word)\n",
        "print(\"Occurrences:\", count)\n"
      ],
      "metadata": {
        "id": "uOqID8AYYyuB"
      },
      "execution_count": null,
      "outputs": []
    },
    {
      "cell_type": "code",
      "source": [
        "#22.How can you check if a file is empty before attempting to read its contents\n",
        "import os\n",
        "if os.path.getsize(\"file.txt\") == 0:\n",
        "    print(\"File is empty\")\n",
        "else:\n",
        "    with open(\"file.txt\", \"r\") as f:\n",
        "        print(f.read())\n"
      ],
      "metadata": {
        "id": "mhzwtCitZT4h"
      },
      "execution_count": null,
      "outputs": []
    },
    {
      "cell_type": "code",
      "source": [
        "#23. Write a Python program that writes to a log file when an error occurs during file handling.\n",
        "import logging\n",
        "logging.basicConfig(filename=\"file_error.log\", level=logging.ERROR)\n",
        "\n",
        "try:\n",
        "    with open(\"nonexistent.txt\", \"r\") as f:\n",
        "        print(f.read())\n",
        "except Exception as e:\n",
        "    logging.error(\"File error: %s\", e)\n"
      ],
      "metadata": {
        "id": "pkDXOufUZbZA"
      },
      "execution_count": null,
      "outputs": []
    },
    {
      "cell_type": "markdown",
      "source": [],
      "metadata": {
        "id": "LSv_8450BUy0"
      }
    }
  ]
}